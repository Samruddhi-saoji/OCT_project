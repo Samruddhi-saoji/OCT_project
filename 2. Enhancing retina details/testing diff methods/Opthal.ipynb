{
  "cells": [
    {
      "cell_type": "code",
      "execution_count": 1,
      "metadata": {
        "id": "x4EXI5YsWKMi"
      },
      "outputs": [],
      "source": [
        "#import libraries\n",
        "import cv2\n",
        "import numpy as np\n",
        "import matplotlib.pyplot as plt"
      ]
    },
    {
      "cell_type": "markdown",
      "metadata": {
        "id": "kPA_xmtCW8Hw"
      },
      "source": [
        "##### The input image"
      ]
    },
    {
      "cell_type": "code",
      "execution_count": 2,
      "metadata": {
        "id": "9DT8AJx9WcVd"
      },
      "outputs": [],
      "source": [
        "# Load the input image\n",
        "input_image = cv2.imread('.\\\\originals\\\\ANLM_only.jpeg', cv2.IMREAD_GRAYSCALE)"
      ]
    },
    {
      "cell_type": "code",
      "execution_count": 3,
      "metadata": {
        "colab": {
          "base_uri": "https://localhost:8080/"
        },
        "id": "NvqNiPPjYGAp",
        "outputId": "e0a6aee2-88d6-4436-93d2-ff1556e5ad57"
      },
      "outputs": [
        {
          "name": "stdout",
          "output_type": "stream",
          "text": [
            "1024 512\n"
          ]
        }
      ],
      "source": [
        "r, c = input_image.shape\n",
        "print(r, c)"
      ]
    },
    {
      "cell_type": "markdown",
      "metadata": {
        "id": "KfyN-mOPbirN"
      },
      "source": [
        "##### Helper functions"
      ]
    },
    {
      "cell_type": "code",
      "execution_count": 4,
      "metadata": {
        "id": "x04z_qlTZoPC"
      },
      "outputs": [],
      "source": [
        "### display image ###\n",
        "def display(img1):\n",
        "   plt.imshow(img1, cmap='gray')\n",
        "   plt.axis('off')  # Turn off axis labels and ticks\n",
        "   plt.show()"
      ]
    },
    {
      "cell_type": "code",
      "execution_count": null,
      "metadata": {
        "id": "UtHLi-7qVKMg"
      },
      "outputs": [],
      "source": [
        "#extract the patches from the image\n",
        "    # returns the list of patches\n",
        "def get_patches(img, box):\n",
        "    # Get the dimensions of the input image\n",
        "    rows, cols = img.shape\n",
        "    box_width, box_height = box[1], box[0]\n",
        "\n",
        "    # Calculate the number of patches in each dimension\n",
        "    num_patches_x = cols // box_width\n",
        "    num_patches_y = rows // box_height\n",
        "\n",
        "    # Create a list to store the patches\n",
        "    patches = []\n",
        "\n",
        "    # Iterate through the patches and create a list of non-overlapping patches\n",
        "    for i in range(num_patches_y):\n",
        "        for j in range(num_patches_x):\n",
        "            # Define the coordinates of the current patch\n",
        "            patch_x1 = j * box_width\n",
        "            patch_x2 = (j + 1) * box_width\n",
        "            patch_y1 = i * box_height\n",
        "            patch_y2 = (i + 1) * box_height\n",
        "\n",
        "            # Extract the patch using slicing\n",
        "            patch = img[patch_y1:patch_y2, patch_x1:patch_x2]\n",
        "\n",
        "            # Append the patch to the list\n",
        "            patches.append(patch)\n",
        "\n",
        "    return patches"
      ]
    },
    {
      "cell_type": "markdown",
      "metadata": {},
      "source": [
        "##### Image processing"
      ]
    },
    {
      "cell_type": "code",
      "execution_count": 3,
      "metadata": {},
      "outputs": [],
      "source": [
        "############# contrast enhancement ##################\n",
        "def denoise(img, threshold=50, box=(3,5)):\n",
        "    # shape of input image\n",
        "    rows, cols = img.shape\n",
        "\n",
        "    #the result array  #same shape as input\n",
        "    result = img.copy()\n",
        "\n",
        "    # get width and height of the patch (box)\n",
        "    box_width, box_height = box[1], box[0]\n",
        "\n",
        "    # denoise the image one patch at a time\n",
        "    for y in range(0, rows, box_height):\n",
        "        for x in range(0, cols, box_width):\n",
        "            # Extract the patch\n",
        "            patch = img[y:y+box_height, x:x+box_width]\n",
        "\n",
        "            # Calculate the average patch value\n",
        "            avg = np.mean(patch[:,:])\n",
        "\n",
        "            # if the patch average is considered black\n",
        "            if avg <= threshold:\n",
        "                # make the black pixels blacker\n",
        "                patch[patch <= threshold] = patch[patch <= threshold]*(0.8)\n",
        "                # make the non-black pixels brighter\n",
        "                patch[patch > threshold] = avg*(1.2)\n",
        "            #else:\n",
        "                # make all pixels avg\n",
        "                #patch[:, :] = avg*(1.1)\n",
        "\n",
        "            # Update the patch in the result image\n",
        "            result[y:y+box_height, x:x+box_width] = patch\n",
        "\n",
        "    return result"
      ]
    },
    {
      "cell_type": "code",
      "execution_count": 4,
      "metadata": {},
      "outputs": [],
      "source": [
        "######### blurring #################\n",
        "\n",
        "#Gaussian blurr\n",
        "def blurr(img, kernel=(7,7)):\n",
        "    denoised_image = cv2.GaussianBlur(img, kernel, 0) #apply Gaus. blur\n",
        "    return denoised_image"
      ]
    },
    {
      "cell_type": "markdown",
      "metadata": {
        "id": "yFnlv7URg5Sw"
      },
      "source": [
        "##### Functions"
      ]
    },
    {
      "cell_type": "code",
      "execution_count": null,
      "metadata": {
        "id": "I5UYrNFfWijj"
      },
      "outputs": [],
      "source": [
        "### image processing ###\n",
        "def process(img, threshold, box):\n",
        "    h, w= box\n",
        "    result_img = np.copy(img)\n",
        "    half_w, half_h = w // 2, h // 2\n",
        "\n",
        "    for y in range(half_h, img.shape[0] - half_h):\n",
        "        for x in range(half_w, img.shape[1] - half_w):\n",
        "            patch = img[y - half_h:y + half_h + 1, x - half_w:x + half_w + 1]\n",
        "            patch_avg = np.mean(patch)\n",
        "\n",
        "            if img[y, x] < threshold:\n",
        "                continue\n",
        "            else:\n",
        "                result_img[y, x] = patch_avg\n",
        "\n",
        "    return result_img"
      ]
    },
    {
      "cell_type": "code",
      "execution_count": 79,
      "metadata": {
        "id": "h5gB7cJ2dn23"
      },
      "outputs": [],
      "source": [
        "#replace non-black pixels with patch average value\n",
        "def process2(img, threshold, box):\n",
        "    # Get the dimensions of the input image\n",
        "    rows, cols = img.shape\n",
        "\n",
        "    #the result array  #same shape as input\n",
        "    result = np.zeros((rows, cols))\n",
        "\n",
        "    # Define the dimensions of the box (patch)\n",
        "    box_width, box_height = box[1], box[0]\n",
        "\n",
        "    # process the image one patch at a time\n",
        "    for y in range(0, rows, box_height):\n",
        "        for x in range(0, cols, box_width):\n",
        "            # Extract the patch\n",
        "            patch = img[y:y+box_height, x:x+box_width]\n",
        "\n",
        "            # Calculate patch average\n",
        "            avg = np.mean(patch[:,:])\n",
        "\n",
        "            # Chnage all non-black pixels to avg\n",
        "            patch[patch > threshold] = avg\n",
        "\n",
        "            # Update the patch in the result image \n",
        "            result[y:y+box_height, x:x+box_width] = patch\n",
        "\n",
        "    return result"
      ]
    },
    {
      "cell_type": "code",
      "execution_count": 5,
      "metadata": {
        "id": "87aWK0ceLMiK"
      },
      "outputs": [],
      "source": [
        "# make black pixels blacker (root n)\n",
        "# replace non black pixels by average patch value\n",
        "def process3(img, threshold, box):\n",
        "    # shape of input image\n",
        "    rows, cols = img.shape\n",
        "\n",
        "    #the result array  #same shape as input\n",
        "    result = np.zeros((rows, cols))\n",
        "\n",
        "    # get width and height of the patch (box)\n",
        "    box_width, box_height = box[1], box[0]\n",
        "\n",
        "    # process the image one patch at a time\n",
        "    for y in range(0, rows, box_height):\n",
        "        for x in range(0, cols, box_width):\n",
        "            # Extract the patch\n",
        "            patch = img[y:y+box_height, x:x+box_width]\n",
        "\n",
        "            # Calculate the average patch value\n",
        "            avg = np.mean(patch[:,:])\n",
        "\n",
        "            # if the patch average is considered black\n",
        "            if avg <= threshold:\n",
        "                # make the black pixels blacker\n",
        "                patch[patch <= threshold] = avg*(0.75)\n",
        "                # make the non-black pixels brighter\n",
        "                patch[patch > threshold] = avg*(1.5)\n",
        "            else:\n",
        "                # make all pixels avg\n",
        "                patch[:, :] = avg*(1.1)\n",
        "\n",
        "            # Update the patch in the result image\n",
        "            result[y:y+box_height, x:x+box_width] = patch\n",
        "\n",
        "    return result"
      ]
    },
    {
      "cell_type": "code",
      "execution_count": 81,
      "metadata": {},
      "outputs": [],
      "source": [
        "# make black pixels blacker (root n)\n",
        "# replace non black pixels by average patch value\n",
        "def process4(img, threshold, box):\n",
        "    # shape of input image\n",
        "    rows, cols = img.shape\n",
        "\n",
        "    #the result array  #same shape as input\n",
        "    result = np.zeros((rows, cols))\n",
        "\n",
        "    # get width and height of the patch (box)\n",
        "    box_width, box_height = box[1], box[0]\n",
        "\n",
        "    # process the image one patch at a time\n",
        "    for y in range(0, rows, box_height):\n",
        "        for x in range(0, cols, box_width):\n",
        "            # Extract the patch\n",
        "            patch = img[y:y+box_height, x:x+box_width]\n",
        "\n",
        "            # Calculate the average patch value\n",
        "            avg = np.mean(patch[:,:])\n",
        "\n",
        "            # if the patch average is considered black\n",
        "            if avg <= threshold:\n",
        "                # make the black pixels blacker\n",
        "                patch[patch <= threshold] = patch[patch <= threshold]*(0.5)\n",
        "                # make the non-black pixels brighter\n",
        "                patch[patch > threshold] = patch[patch > threshold]*(1.5)\n",
        "            else:\n",
        "                # make all pixels avg\n",
        "                patch[:, :] = avg*(1.1)\n",
        "\n",
        "            # Update the patch in the result image\n",
        "            result[y:y+box_height, x:x+box_width] = patch\n",
        "\n",
        "    return result"
      ]
    },
    {
      "cell_type": "markdown",
      "metadata": {
        "id": "O1LBAZgWbcvh"
      },
      "source": [
        "##### Testing"
      ]
    },
    {
      "cell_type": "code",
      "execution_count": 8,
      "metadata": {
        "id": "1Wfi68ML6vrb"
      },
      "outputs": [
        {
          "data": {
            "text/plain": [
              "True"
            ]
          },
          "execution_count": 8,
          "metadata": {},
          "output_type": "execute_result"
        }
      ],
      "source": [
        "##### ANLM only #####\n",
        "# Load the input image\n",
        "input_image = cv2.imread('.\\\\originals\\\\ANLM_only.jpeg', cv2.IMREAD_GRAYSCALE)\n",
        "\n",
        "\n",
        "# hyper-parameters\n",
        "threshold_value = 25\n",
        "box_size = (3,4) #(rows, cols)\n",
        "\n",
        "# Process the image\n",
        "result_image = process3(input_image, threshold_value, box_size)\n",
        "#temp = blurr(temp, (5,5))\n",
        "#result_image = denoise(temp, threshold=30, box=(5,5)) \n",
        "\n",
        "#save the output\n",
        "cv2.imwrite('output.jpg', result_image)"
      ]
    },
    {
      "cell_type": "code",
      "execution_count": 12,
      "metadata": {},
      "outputs": [
        {
          "data": {
            "text/plain": [
              "True"
            ]
          },
          "execution_count": 12,
          "metadata": {},
          "output_type": "execute_result"
        }
      ],
      "source": [
        "##### ANLM only #####\n",
        "# Load the input image\n",
        "path = \"C:\\\\Users\\\\Samruddhi\\\\Desktop\\\\Internship 2\\\\Code\\\\2. Enhancing retina details\\\\test\\\\Dolvin_Mac_OS-228.jpg\"\n",
        "input_image = cv2.imread(path, cv2.IMREAD_GRAYSCALE)\n",
        "\n",
        "# hyper-parameters\n",
        "threshold_value = 20\n",
        "box_size = (3,5) #(rows, cols)\n",
        "\n",
        "# Process the image\n",
        "result_image = process3(input_image, threshold_value, box_size)\n",
        "\n",
        "#save the output\n",
        "cv2.imwrite('test_output.jpg', result_image)"
      ]
    },
    {
      "cell_type": "code",
      "execution_count": 92,
      "metadata": {},
      "outputs": [
        {
          "data": {
            "text/plain": [
              "True"
            ]
          },
          "execution_count": 92,
          "metadata": {},
          "output_type": "execute_result"
        }
      ],
      "source": [
        "###### ANLM and CE #############\n",
        "\n",
        "test = cv2.imread('.\\\\originals\\\\ANLM_CE.png', cv2.IMREAD_GRAYSCALE)\n",
        "\n",
        "# hyper-parameters\n",
        "threshold_value = 25\n",
        "box_size = (3,5) #(rows, cols)\n",
        "\n",
        "# Process the image\n",
        "temp = process3(test, threshold_value, box_size)\n",
        "result = blurr(temp, (7,7))\n",
        "\n",
        "#save the image\n",
        "cv2.imwrite('blurred.jpg', result)"
      ]
    }
  ],
  "metadata": {
    "colab": {
      "provenance": [],
      "toc_visible": true
    },
    "kernelspec": {
      "display_name": "Python 3",
      "name": "python3"
    },
    "language_info": {
      "codemirror_mode": {
        "name": "ipython",
        "version": 3
      },
      "file_extension": ".py",
      "mimetype": "text/x-python",
      "name": "python",
      "nbconvert_exporter": "python",
      "pygments_lexer": "ipython3",
      "version": "3.9.2"
    }
  },
  "nbformat": 4,
  "nbformat_minor": 0
}
