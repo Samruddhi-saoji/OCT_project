{
 "cells": [
  {
   "cell_type": "code",
   "execution_count": 11,
   "metadata": {},
   "outputs": [],
   "source": [
    "#import libraries\n",
    "import cv2\n",
    "import numpy as np\n",
    "import matplotlib.pyplot as plt\n",
    "import os"
   ]
  },
  {
   "cell_type": "code",
   "execution_count": null,
   "metadata": {},
   "outputs": [],
   "source": [
    "### display image ###\n",
    "def display(img1):\n",
    "   plt.imshow(img1, cmap='gray')\n",
    "   plt.axis('off')  # Turn off axis labels and ticks\n",
    "   plt.show()"
   ]
  },
  {
   "cell_type": "markdown",
   "metadata": {},
   "source": [
    "### Processing steps"
   ]
  },
  {
   "cell_type": "markdown",
   "metadata": {},
   "source": [
    "##### Denoising (Adaptive non-local means)"
   ]
  },
  {
   "cell_type": "code",
   "execution_count": 7,
   "metadata": {},
   "outputs": [],
   "source": [
    "###### adaptive NLM #####\n",
    "def denoise(img, h=10, window=100, patch=7):\n",
    "    result = cv2.fastNlMeansDenoising(img, None, h=h, templateWindowSize=patch, searchWindowSize=window)\n",
    "\n",
    "    return result"
   ]
  },
  {
   "cell_type": "markdown",
   "metadata": {},
   "source": [
    "##### Contrast enhancement (custom)"
   ]
  },
  {
   "cell_type": "code",
   "execution_count": 9,
   "metadata": {},
   "outputs": [],
   "source": [
    "############# contrast enhancement ##################\n",
    "def contrast_enhancement(img, threshold=30, box=(5,5)):\n",
    "    # shape of input image\n",
    "    rows, cols = img.shape\n",
    "\n",
    "    #the result array  #same shape as input\n",
    "    result = img.copy()\n",
    "\n",
    "    # get width and height of the patch (box)\n",
    "    box_width, box_height = box[1], box[0]\n",
    "\n",
    "    # denoise the image one patch at a time\n",
    "    for y in range(0, rows, box_height):\n",
    "        for x in range(0, cols, box_width):\n",
    "            # Extract the patch\n",
    "            patch = img[y:y+box_height, x:x+box_width]\n",
    "\n",
    "            # Calculate the average patch value\n",
    "            avg = np.mean(patch[:,:])\n",
    "\n",
    "            # if the patch average is considered black\n",
    "            if avg <= threshold:\n",
    "                # make the black pixels blacker\n",
    "                patch[patch <= threshold] = patch[patch <= threshold]*(0.8)\n",
    "                # make the non-black pixels brighter\n",
    "                patch[patch > threshold] = avg*(1.2)\n",
    "            #else:\n",
    "                # make all pixels avg\n",
    "                #patch[:, :] = avg*(1.1)\n",
    "\n",
    "            # Update the patch in the result image\n",
    "            result[y:y+box_height, x:x+box_width] = patch\n",
    "\n",
    "    return result"
   ]
  },
  {
   "cell_type": "markdown",
   "metadata": {},
   "source": [
    "##### Blurring (Gaussian blurr)"
   ]
  },
  {
   "cell_type": "code",
   "execution_count": 5,
   "metadata": {},
   "outputs": [],
   "source": [
    "#Gaussian blurr\n",
    "def blurr(img, kernel=(7,7)):\n",
    "    denoised_image = cv2.GaussianBlur(img, kernel, 0) #apply Gaus. blur\n",
    "    return denoised_image"
   ]
  },
  {
   "cell_type": "markdown",
   "metadata": {},
   "source": [
    "##### Processing "
   ]
  },
  {
   "cell_type": "markdown",
   "metadata": {},
   "source": [
    "For black patch: make black pixels darker than the patch avg, and the non-black pixels brighter than avg.\n",
    "For non-black patch : make all pixels slightly brighter than the patch average.\n"
   ]
  },
  {
   "cell_type": "code",
   "execution_count": 6,
   "metadata": {},
   "outputs": [],
   "source": [
    "def process(img, threshold=25, box=(3,5)):\n",
    "    # shape of input image\n",
    "    rows, cols = img.shape\n",
    "\n",
    "    #the result array  #same shape as input\n",
    "    result = np.zeros((rows, cols))\n",
    "\n",
    "    # get width and height of the patch (box)\n",
    "    box_width, box_height = box[1], box[0]\n",
    "\n",
    "    # process the image one patch at a time\n",
    "    for y in range(0, rows, box_height):\n",
    "        for x in range(0, cols, box_width):\n",
    "            # Extract the patch\n",
    "            patch = img[y:y+box_height, x:x+box_width]\n",
    "\n",
    "            # Calculate the average patch value\n",
    "            avg = np.mean(patch[:,:])\n",
    "\n",
    "            # if the patch average is considered black\n",
    "            if avg <= threshold:\n",
    "                # make the black pixels blacker\n",
    "                patch[patch <= threshold] = avg*(0.75)\n",
    "                # make the non-black pixels brighter\n",
    "                patch[patch > threshold] = avg*(1.5)\n",
    "            else:\n",
    "                # make all pixels avg\n",
    "                patch[:, :] = avg*(1.1)\n",
    "\n",
    "            # Update the patch in the result image\n",
    "            result[y:y+box_height, x:x+box_width] = patch\n",
    "\n",
    "    return result"
   ]
  },
  {
   "cell_type": "markdown",
   "metadata": {},
   "source": [
    "### Processing functions"
   ]
  },
  {
   "cell_type": "markdown",
   "metadata": {},
   "source": [
    "##### Process 1 image"
   ]
  },
  {
   "cell_type": "code",
   "execution_count": 10,
   "metadata": {},
   "outputs": [],
   "source": [
    "def process_image(img):\n",
    "    temp = denoise(img)\n",
    "    temp = process(temp, threshold=25, box_size=(3,5))\n",
    "    temp = blurr(temp, (5,5))\n",
    "    result_image = contrast_enhancement(temp, threshold=30, box=(5,5))\n",
    "\n",
    "    return result_image"
   ]
  },
  {
   "cell_type": "markdown",
   "metadata": {},
   "source": [
    "##### Process a dataset"
   ]
  },
  {
   "cell_type": "code",
   "execution_count": null,
   "metadata": {},
   "outputs": [],
   "source": [
    "# dataset = path of dataset\n",
    "# dest_path = where output will be saved\n",
    "def process_data(dataset, dest_path):\n",
    "    # if dest folder doesnt exist, create it\n",
    "    if not os.path.exists(dest_path):\n",
    "        os.makedirs(dest_path)\n",
    "\n",
    "    # List of all files in the dataset\n",
    "    image_files = os.listdir(dataset) #name of img file\n",
    "    tot = len(image_files) \n",
    "\n",
    "    count = 0\n",
    "    for image_file in image_files:\n",
    "        # full path of the img = dataset path + image file name\n",
    "        image_path = os.path.join(dataset, image_file)\n",
    "\n",
    "        # Read the image as numpy array\n",
    "        image = cv2.imread(image_path)\n",
    "\n",
    "        # Process the image\n",
    "        output_img = process_image(image)\n",
    "\n",
    "        # full path of output = dest folder path + image file name\n",
    "        output_path = os.path.join(dest_path, image_file)\n",
    "\n",
    "        # Save the image\n",
    "        cv2.imwrite(output_path, output_img)\n",
    "\n",
    "        count+=1\n",
    "        print(f\"{count}/{tot}\")\n",
    "    print(\"All images processed succesfully.\\n\")\n"
   ]
  },
  {
   "cell_type": "markdown",
   "metadata": {},
   "source": [
    "### Testing"
   ]
  },
  {
   "cell_type": "code",
   "execution_count": null,
   "metadata": {},
   "outputs": [],
   "source": [
    "dataset = \"input_images_folder\"\n",
    "dest_path = \".\\\\output\" \n",
    "\n",
    "process_data(dataset, dest_path)"
   ]
  }
 ],
 "metadata": {
  "kernelspec": {
   "display_name": "Python 3",
   "language": "python",
   "name": "python3"
  },
  "language_info": {
   "codemirror_mode": {
    "name": "ipython",
    "version": 3
   },
   "file_extension": ".py",
   "mimetype": "text/x-python",
   "name": "python",
   "nbconvert_exporter": "python",
   "pygments_lexer": "ipython3",
   "version": "3.9.2"
  }
 },
 "nbformat": 4,
 "nbformat_minor": 2
}
