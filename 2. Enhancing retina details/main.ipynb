{
 "cells": [
  {
   "cell_type": "code",
   "execution_count": 1,
   "metadata": {},
   "outputs": [],
   "source": [
    "#import libraries\n",
    "import cv2\n",
    "import numpy as np\n",
    "import matplotlib.pyplot as plt\n",
    "import os"
   ]
  },
  {
   "cell_type": "markdown",
   "metadata": {},
   "source": [
    "### Processing steps"
   ]
  },
  {
   "cell_type": "markdown",
   "metadata": {},
   "source": [
    "##### Denoising (Adaptive non-local means)"
   ]
  },
  {
   "cell_type": "code",
   "execution_count": 2,
   "metadata": {},
   "outputs": [],
   "source": [
    "###### adaptive NLM #####\n",
    "def denoise(img, h=10, window=100, patch=7):\n",
    "    result = cv2.fastNlMeansDenoising(img, None, h=h, templateWindowSize=patch, searchWindowSize=window)\n",
    "\n",
    "    return result"
   ]
  },
  {
   "cell_type": "markdown",
   "metadata": {},
   "source": [
    "##### Contrast enhancement (custom)"
   ]
  },
  {
   "cell_type": "code",
   "execution_count": 3,
   "metadata": {},
   "outputs": [],
   "source": [
    "############# contrast enhancement ##################\n",
    "def contrast_enhancement(img, threshold=30, box=(5,5)):\n",
    "    # shape of input image\n",
    "    rows, cols = img.shape\n",
    "\n",
    "    #the result array  #same shape as input\n",
    "    result = img.copy()\n",
    "\n",
    "    # get width and height of the patch (box)\n",
    "    box_width, box_height = box[1], box[0]\n",
    "\n",
    "    # denoise the image one patch at a time\n",
    "    for y in range(0, rows, box_height):\n",
    "        for x in range(0, cols, box_width):\n",
    "            # Extract the patch\n",
    "            patch = img[y:y+box_height, x:x+box_width]\n",
    "\n",
    "            # Calculate the average patch value\n",
    "            avg = np.mean(patch[:,:])\n",
    "\n",
    "            # if the patch average is considered black\n",
    "            if avg <= threshold:\n",
    "                # make the black pixels blacker\n",
    "                patch[patch <= threshold] = patch[patch <= threshold]*(0.8)\n",
    "                # make the non-black pixels brighter\n",
    "                patch[patch > threshold] = avg*(1.1)\n",
    "            #else:\n",
    "                # make all pixels avg\n",
    "                #patch[:, :] = avg*(1.1)\n",
    "\n",
    "            # Update the patch in the result image\n",
    "            result[y:y+box_height, x:x+box_width] = patch\n",
    "\n",
    "    return result"
   ]
  },
  {
   "cell_type": "markdown",
   "metadata": {},
   "source": [
    "##### Blurring (Gaussian blurr)"
   ]
  },
  {
   "cell_type": "code",
   "execution_count": 4,
   "metadata": {},
   "outputs": [],
   "source": [
    "#Gaussian blurr\n",
    "def blurr(img, kernel=(7,7)):\n",
    "    denoised_image = cv2.GaussianBlur(img, kernel, 0) #apply Gaus. blur\n",
    "    return denoised_image"
   ]
  },
  {
   "cell_type": "markdown",
   "metadata": {},
   "source": [
    "##### Processing "
   ]
  },
  {
   "cell_type": "markdown",
   "metadata": {},
   "source": [
    "For black patch: make black pixels darker than the patch avg, and the non-black pixels brighter than avg.\n",
    "For non-black patch : make all pixels slightly brighter than the patch average.\n"
   ]
  },
  {
   "cell_type": "code",
   "execution_count": 5,
   "metadata": {},
   "outputs": [],
   "source": [
    "def process(img, threshold=25, box=(3,5)):\n",
    "    # shape of input image\n",
    "    rows, cols = img.shape\n",
    "\n",
    "    #the result array  #same shape as input\n",
    "    result = np.zeros((rows, cols))\n",
    "\n",
    "    # get width and height of the patch (box)\n",
    "    box_width, box_height = box[1], box[0]\n",
    "\n",
    "    # process the image one patch at a time\n",
    "    for y in range(0, rows, box_height):\n",
    "        for x in range(0, cols, box_width):\n",
    "            # Extract the patch\n",
    "            patch = img[y:y+box_height, x:x+box_width]\n",
    "\n",
    "            # Calculate the average patch value\n",
    "            avg = np.mean(patch[:,:])\n",
    "\n",
    "            # if the patch average is considered black\n",
    "            if avg <= threshold:\n",
    "                # make the black pixels blacker\n",
    "                patch[patch <= threshold] = avg*(0.55)\n",
    "                # make the non-black pixels brighter\n",
    "                patch[patch > threshold] = avg*(1.25)\n",
    "            else:\n",
    "                # make all pixels avg\n",
    "                patch[:, :] = avg*(1.05)\n",
    "\n",
    "            # Update the patch in the result image\n",
    "            result[y:y+box_height, x:x+box_width] = patch\n",
    "\n",
    "    return result"
   ]
  },
  {
   "cell_type": "markdown",
   "metadata": {},
   "source": [
    "### Processing functions"
   ]
  },
  {
   "cell_type": "markdown",
   "metadata": {},
   "source": [
    "##### Process 1 image"
   ]
  },
  {
   "cell_type": "code",
   "execution_count": 6,
   "metadata": {},
   "outputs": [],
   "source": [
    "def process_image(img):\n",
    "    temp = denoise(img)\n",
    "    temp = process(temp, threshold=25, box=(3,5))\n",
    "    temp = blurr(temp, (3,3))\n",
    "    result_image = contrast_enhancement(temp, threshold=10, box=(5,5))\n",
    "\n",
    "    return result_image"
   ]
  },
  {
   "cell_type": "markdown",
   "metadata": {},
   "source": [
    "##### Process a dataset"
   ]
  },
  {
   "cell_type": "code",
   "execution_count": 8,
   "metadata": {},
   "outputs": [],
   "source": [
    "################ both .tif and jpeg #################\n",
    "\n",
    "# dataset = path of dataset\n",
    "# dest_path = where output will be saved\n",
    "def process_data(dataset, dest_path):\n",
    "    # if dest folder doesnt exist, create it\n",
    "    if not os.path.exists(dest_path):\n",
    "        os.makedirs(dest_path)\n",
    "\n",
    "    # List of all files in the dataset\n",
    "    image_files = os.listdir(dataset) #name of img file\n",
    "    tot = len(image_files) \n",
    "\n",
    "    count = 0\n",
    "    for image_file in image_files:\n",
    "        # full path of the img = dataset path + image file name\n",
    "        image_path = os.path.join(dataset, image_file)\n",
    "\n",
    "        # Read the image as numpy array\n",
    "        image = cv2.imread(image_path)\n",
    "\n",
    "        # Process the image\n",
    "        output_img = process_image(image)\n",
    "\n",
    "        # full path of output = dest folder path + image file name\n",
    "        output_path = os.path.join(dest_path, image_file)\n",
    "\n",
    "        # Save the image\n",
    "        cv2.imwrite(output_path, output_img)\n",
    "\n",
    "        count+=1\n",
    "        print(f\"{count}/{tot}\")\n",
    "    print(\"All images processed succesfully.\\n\")\n"
   ]
  },
  {
   "cell_type": "code",
   "execution_count": 9,
   "metadata": {},
   "outputs": [],
   "source": [
    "####################### jpeg only ###################\n",
    "\n",
    "def process_data_jpeg_only(dataset, dest_path):\n",
    "    # if dest folder doesnt exist, create it\n",
    "    if not os.path.exists(dest_path):\n",
    "        os.makedirs(dest_path)\n",
    "\n",
    "    # List of all files in the dataset\n",
    "    image_files = os.listdir(dataset) #name of img file\n",
    "    tot = len(image_files)/2 # div by 2 as dataset contains .tif and .jpeg both \n",
    "\n",
    "    count = 0\n",
    "    for image_file in image_files:\n",
    "        # Filter only JPEG images\n",
    "        if image_file.lower().endswith((\".jpg\", \".jpeg\")):\n",
    "            # full path of the img = dataset path + image file name\n",
    "            image_path = os.path.join(dataset, image_file)\n",
    "\n",
    "            # Read the image as numpy array\n",
    "            image = cv2.imread(image_path, cv2.IMREAD_GRAYSCALE)\n",
    "\n",
    "            # Process the image\n",
    "            output_img = process_image(image)\n",
    "\n",
    "            # full path of output = dest folder path + image file name\n",
    "            output_path = os.path.join(dest_path, image_file)\n",
    "\n",
    "            # Save the image\n",
    "            cv2.imwrite(output_path, output_img)\n",
    "\n",
    "            count+=1\n",
    "            print(f\"{count}/{tot}\")\n",
    "    print(\"All images processed succesfully.\\n\")\n"
   ]
  },
  {
   "cell_type": "markdown",
   "metadata": {},
   "source": [
    "### Combine images into a single composite image"
   ]
  },
  {
   "cell_type": "markdown",
   "metadata": {},
   "source": [
    "##### pre-aligned images"
   ]
  },
  {
   "cell_type": "code",
   "execution_count": 10,
   "metadata": {},
   "outputs": [],
   "source": [
    "# Function to combine aligned images and save the result\n",
    "def combine_aligned_images(dataset, dest_path):\n",
    "    # List all JPEG files in the image folder\n",
    "    image_files = [f for f in os.listdir(dataset) if f.lower().endswith(('.jpg', '.jpeg'))]\n",
    "    tot = len(image_files)\n",
    "\n",
    "    # Load the first image to get dimensions\n",
    "    test_img = cv2.imread(os.path.join(dataset, image_files[0]), cv2.IMREAD_GRAYSCALE)\n",
    "    # initialise the composite image\n",
    "    combined_image = np.zeros_like(test_img, dtype=np.float32)\n",
    "\n",
    "    # Process and combine images\n",
    "    count = 0\n",
    "    for image_file in image_files:\n",
    "        #read and process the image\n",
    "        img_path = os.path.join(dataset, image_file)\n",
    "        img = cv2.imread(img_path, cv2.IMREAD_GRAYSCALE)\n",
    "        processed_img = process_image(img)\n",
    "\n",
    "        #add processed image to the composite image\n",
    "        combined_image += processed_img\n",
    "\n",
    "        count +=1\n",
    "        print(f\"{count}/{tot}\")\n",
    "\n",
    "    # Normalize and convert to uint8 format\n",
    "    combined_image = (combined_image/tot).astype(np.uint8)\n",
    "\n",
    "    # Save the combined image\n",
    "    cv2.imwrite(dest_path, combined_image)\n",
    "    print(f\"Composite image saved to {dest_path}\")\n",
    "\n"
   ]
  },
  {
   "cell_type": "markdown",
   "metadata": {},
   "source": [
    "### Testing"
   ]
  },
  {
   "cell_type": "markdown",
   "metadata": {},
   "source": [
    "##### process a single image"
   ]
  },
  {
   "cell_type": "code",
   "execution_count": 7,
   "metadata": {},
   "outputs": [
    {
     "data": {
      "text/plain": [
       "True"
      ]
     },
     "execution_count": 7,
     "metadata": {},
     "output_type": "execute_result"
    }
   ],
   "source": [
    "path = \".\\\\testing diff methods\\\\originals\\\\original.jpeg\"\n",
    "img = cv2.imread(path, cv2.IMREAD_GRAYSCALE)\n",
    " \n",
    "result = process_image(img)\n",
    "\n",
    "cv2.imwrite(\"output.jpg\", result)"
   ]
  },
  {
   "cell_type": "markdown",
   "metadata": {},
   "source": [
    "##### process a dataset"
   ]
  },
  {
   "cell_type": "code",
   "execution_count": 12,
   "metadata": {},
   "outputs": [
    {
     "name": "stdout",
     "output_type": "stream",
     "text": [
      "1/3.0\n",
      "2/3.0\n"
     ]
    },
    {
     "ename": "KeyboardInterrupt",
     "evalue": "",
     "output_type": "error",
     "traceback": [
      "\u001b[1;31m---------------------------------------------------------------------------\u001b[0m",
      "\u001b[1;31mKeyboardInterrupt\u001b[0m                         Traceback (most recent call last)",
      "\u001b[1;32mc:\\Users\\Samruddhi\\Desktop\\Internship 2\\Code\\2. Enhancing retina details\\main.ipynb Cell 25\u001b[0m line \u001b[0;36m<cell line: 4>\u001b[1;34m()\u001b[0m\n\u001b[0;32m      <a href='vscode-notebook-cell:/c%3A/Users/Samruddhi/Desktop/Internship%202/Code/2.%20Enhancing%20retina%20details/main.ipynb#X33sZmlsZQ%3D%3D?line=0'>1</a>\u001b[0m dataset \u001b[39m=\u001b[39m \u001b[39m\"\u001b[39m\u001b[39m.\u001b[39m\u001b[39m\\\\\u001b[39;00m\u001b[39mtest\u001b[39m\u001b[39m\"\u001b[39m\n\u001b[0;32m      <a href='vscode-notebook-cell:/c%3A/Users/Samruddhi/Desktop/Internship%202/Code/2.%20Enhancing%20retina%20details/main.ipynb#X33sZmlsZQ%3D%3D?line=1'>2</a>\u001b[0m dest_path \u001b[39m=\u001b[39m \u001b[39m\"\u001b[39m\u001b[39m.\u001b[39m\u001b[39m\\\\\u001b[39;00m\u001b[39moutput\u001b[39m\u001b[39m\"\u001b[39m \n\u001b[1;32m----> <a href='vscode-notebook-cell:/c%3A/Users/Samruddhi/Desktop/Internship%202/Code/2.%20Enhancing%20retina%20details/main.ipynb#X33sZmlsZQ%3D%3D?line=3'>4</a>\u001b[0m process_data_jpeg_only(dataset, dest_path)\n",
      "\u001b[1;32mc:\\Users\\Samruddhi\\Desktop\\Internship 2\\Code\\2. Enhancing retina details\\main.ipynb Cell 25\u001b[0m line \u001b[0;36mprocess_data_jpeg_only\u001b[1;34m(dataset, dest_path)\u001b[0m\n\u001b[0;32m     <a href='vscode-notebook-cell:/c%3A/Users/Samruddhi/Desktop/Internship%202/Code/2.%20Enhancing%20retina%20details/main.ipynb#X33sZmlsZQ%3D%3D?line=19'>20</a>\u001b[0m image \u001b[39m=\u001b[39m cv2\u001b[39m.\u001b[39mimread(image_path, cv2\u001b[39m.\u001b[39mIMREAD_GRAYSCALE)\n\u001b[0;32m     <a href='vscode-notebook-cell:/c%3A/Users/Samruddhi/Desktop/Internship%202/Code/2.%20Enhancing%20retina%20details/main.ipynb#X33sZmlsZQ%3D%3D?line=21'>22</a>\u001b[0m \u001b[39m# Process the image\u001b[39;00m\n\u001b[1;32m---> <a href='vscode-notebook-cell:/c%3A/Users/Samruddhi/Desktop/Internship%202/Code/2.%20Enhancing%20retina%20details/main.ipynb#X33sZmlsZQ%3D%3D?line=22'>23</a>\u001b[0m output_img \u001b[39m=\u001b[39m process_image(image)\n\u001b[0;32m     <a href='vscode-notebook-cell:/c%3A/Users/Samruddhi/Desktop/Internship%202/Code/2.%20Enhancing%20retina%20details/main.ipynb#X33sZmlsZQ%3D%3D?line=24'>25</a>\u001b[0m \u001b[39m# full path of output = dest folder path + image file name\u001b[39;00m\n\u001b[0;32m     <a href='vscode-notebook-cell:/c%3A/Users/Samruddhi/Desktop/Internship%202/Code/2.%20Enhancing%20retina%20details/main.ipynb#X33sZmlsZQ%3D%3D?line=25'>26</a>\u001b[0m output_path \u001b[39m=\u001b[39m os\u001b[39m.\u001b[39mpath\u001b[39m.\u001b[39mjoin(dest_path, image_file)\n",
      "\u001b[1;32mc:\\Users\\Samruddhi\\Desktop\\Internship 2\\Code\\2. Enhancing retina details\\main.ipynb Cell 25\u001b[0m line \u001b[0;36mprocess_image\u001b[1;34m(img)\u001b[0m\n\u001b[0;32m      <a href='vscode-notebook-cell:/c%3A/Users/Samruddhi/Desktop/Internship%202/Code/2.%20Enhancing%20retina%20details/main.ipynb#X33sZmlsZQ%3D%3D?line=0'>1</a>\u001b[0m \u001b[39mdef\u001b[39;00m \u001b[39mprocess_image\u001b[39m(img):\n\u001b[1;32m----> <a href='vscode-notebook-cell:/c%3A/Users/Samruddhi/Desktop/Internship%202/Code/2.%20Enhancing%20retina%20details/main.ipynb#X33sZmlsZQ%3D%3D?line=1'>2</a>\u001b[0m     temp \u001b[39m=\u001b[39m denoise(img)\n\u001b[0;32m      <a href='vscode-notebook-cell:/c%3A/Users/Samruddhi/Desktop/Internship%202/Code/2.%20Enhancing%20retina%20details/main.ipynb#X33sZmlsZQ%3D%3D?line=2'>3</a>\u001b[0m     temp \u001b[39m=\u001b[39m process(temp, threshold\u001b[39m=\u001b[39m\u001b[39m25\u001b[39m, box\u001b[39m=\u001b[39m(\u001b[39m3\u001b[39m,\u001b[39m5\u001b[39m))\n\u001b[0;32m      <a href='vscode-notebook-cell:/c%3A/Users/Samruddhi/Desktop/Internship%202/Code/2.%20Enhancing%20retina%20details/main.ipynb#X33sZmlsZQ%3D%3D?line=3'>4</a>\u001b[0m     \u001b[39m#temp = blurr(temp, (5,5))\u001b[39;00m\n",
      "\u001b[1;32mc:\\Users\\Samruddhi\\Desktop\\Internship 2\\Code\\2. Enhancing retina details\\main.ipynb Cell 25\u001b[0m line \u001b[0;36mdenoise\u001b[1;34m(img, h, window, patch)\u001b[0m\n\u001b[0;32m      <a href='vscode-notebook-cell:/c%3A/Users/Samruddhi/Desktop/Internship%202/Code/2.%20Enhancing%20retina%20details/main.ipynb#X33sZmlsZQ%3D%3D?line=1'>2</a>\u001b[0m \u001b[39mdef\u001b[39;00m \u001b[39mdenoise\u001b[39m(img, h\u001b[39m=\u001b[39m\u001b[39m10\u001b[39m, window\u001b[39m=\u001b[39m\u001b[39m100\u001b[39m, patch\u001b[39m=\u001b[39m\u001b[39m7\u001b[39m):\n\u001b[1;32m----> <a href='vscode-notebook-cell:/c%3A/Users/Samruddhi/Desktop/Internship%202/Code/2.%20Enhancing%20retina%20details/main.ipynb#X33sZmlsZQ%3D%3D?line=2'>3</a>\u001b[0m     result \u001b[39m=\u001b[39m cv2\u001b[39m.\u001b[39;49mfastNlMeansDenoising(img, \u001b[39mNone\u001b[39;49;00m, h\u001b[39m=\u001b[39;49mh, templateWindowSize\u001b[39m=\u001b[39;49mpatch, searchWindowSize\u001b[39m=\u001b[39;49mwindow)\n\u001b[0;32m      <a href='vscode-notebook-cell:/c%3A/Users/Samruddhi/Desktop/Internship%202/Code/2.%20Enhancing%20retina%20details/main.ipynb#X33sZmlsZQ%3D%3D?line=4'>5</a>\u001b[0m     \u001b[39mreturn\u001b[39;00m result\n",
      "\u001b[1;31mKeyboardInterrupt\u001b[0m: "
     ]
    }
   ],
   "source": [
    "dataset = \".\\\\test\"\n",
    "dest_path = \".\\\\output\" \n",
    "\n",
    "process_data_jpeg_only(dataset, dest_path)"
   ]
  },
  {
   "cell_type": "markdown",
   "metadata": {},
   "source": [
    "##### create composite image"
   ]
  },
  {
   "cell_type": "code",
   "execution_count": null,
   "metadata": {},
   "outputs": [
    {
     "name": "stdout",
     "output_type": "stream",
     "text": [
      "1/6\n",
      "2/6\n",
      "3/6\n",
      "4/6\n",
      "5/6\n",
      "6/6\n",
      "Composite image saved to output.jpg\n"
     ]
    }
   ],
   "source": [
    "# Specify your image folder and destination path\n",
    "#dataset = \".\\\\input (1-20)\"\n",
    "dataset = \".//test\"\n",
    "composite_image = 'output.jpg'\n",
    "\n",
    "# Call the function to combine and save the images\n",
    "combine_aligned_images(dataset, composite_image)"
   ]
  }
 ],
 "metadata": {
  "kernelspec": {
   "display_name": "Python 3",
   "language": "python",
   "name": "python3"
  },
  "language_info": {
   "codemirror_mode": {
    "name": "ipython",
    "version": 3
   },
   "file_extension": ".py",
   "mimetype": "text/x-python",
   "name": "python",
   "nbconvert_exporter": "python",
   "pygments_lexer": "ipython3",
   "version": "3.9.2"
  }
 },
 "nbformat": 4,
 "nbformat_minor": 2
}
