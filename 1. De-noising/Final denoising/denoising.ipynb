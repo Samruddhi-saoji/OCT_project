{
 "cells": [
  {
   "cell_type": "code",
   "execution_count": 2,
   "metadata": {},
   "outputs": [],
   "source": [
    "#import libraries\n",
    "import cv2\n",
    "import numpy as np"
   ]
  },
  {
   "cell_type": "markdown",
   "metadata": {},
   "source": [
    "### Functions"
   ]
  },
  {
   "cell_type": "code",
   "execution_count": 4,
   "metadata": {},
   "outputs": [],
   "source": [
    "################### adaptive NLM ################\n",
    "\n",
    "def adaptive_NLM(img, h=10, window=100, patch=7):\n",
    "    result = cv2.fastNlMeansDenoising(img, None, h=h, templateWindowSize=patch, searchWindowSize=window)\n",
    "\n",
    "    return result"
   ]
  },
  {
   "cell_type": "code",
   "execution_count": 5,
   "metadata": {},
   "outputs": [],
   "source": [
    "################### custom ################\n",
    "def enhance(img, threshold=50, box=(3,5)):\n",
    "    # shape of input image\n",
    "    rows, cols = img.shape\n",
    "\n",
    "    #the result array  #same shape as input\n",
    "    result = img.copy()\n",
    "\n",
    "    # get width and height of the patch (box)\n",
    "    box_width, box_height = box[1], box[0]\n",
    "\n",
    "    # denoise the image one patch at a time\n",
    "    for y in range(0, rows, box_height):\n",
    "        for x in range(0, cols, box_width):\n",
    "            # Extract the patch\n",
    "            patch = img[y:y+box_height, x:x+box_width]\n",
    "\n",
    "            # Calculate the average patch value\n",
    "            avg = np.mean(patch[:,:])\n",
    "\n",
    "            # if the patch average is considered black\n",
    "            if avg <= threshold:\n",
    "                #denoise (make the black pixels blacker)\n",
    "                patch[patch <= threshold] = patch[patch <= threshold]*(0.8)\n",
    "\n",
    "                #retain data (make the non-black pixels brighter)\n",
    "                patch[patch > threshold] = avg*(1.1)\n",
    "            \n",
    "            # Update the patch in the result image\n",
    "            result[y:y+box_height, x:x+box_width] = patch\n",
    "\n",
    "    return result"
   ]
  },
  {
   "cell_type": "code",
   "execution_count": 6,
   "metadata": {},
   "outputs": [],
   "source": [
    "def denoise(img, h=10, window=100, patch=7, threshold=50, box=(3,5)):\n",
    "    temp = adaptive_NLM(img, h, window, patch)\n",
    "    output = enhance(temp, threshold, box)\n",
    "\n",
    "    return output"
   ]
  },
  {
   "cell_type": "markdown",
   "metadata": {},
   "source": [
    "### Calling the functions"
   ]
  },
  {
   "cell_type": "markdown",
   "metadata": {},
   "source": [
    "##### Load the input image"
   ]
  },
  {
   "cell_type": "code",
   "execution_count": 7,
   "metadata": {},
   "outputs": [],
   "source": [
    "##### input image #####\n",
    "input = cv2.imread('.\\\\input images\\\\WGT1021-508.jpg', cv2.IMREAD_GRAYSCALE)\n",
    "\n",
    "#dim = 512, 1024"
   ]
  },
  {
   "cell_type": "markdown",
   "metadata": {},
   "source": [
    "##### De-noise the input image"
   ]
  },
  {
   "cell_type": "code",
   "execution_count": 8,
   "metadata": {},
   "outputs": [],
   "source": [
    "##### de-noise input image #####\n",
    "\n",
    "# default values\n",
    "    # adaptive NLM : h=7, window=100, patch=7\n",
    "    # custom : threshold=50, box=(3,5)\n",
    "\n",
    "# hyper parameters\n",
    "'''\n",
    "# adaptive NLM\n",
    "h =\n",
    "window =  #size of window #window looks at the big picture\n",
    "patch =  #size of patch #captures details in the small patches\n",
    "\n",
    "#custom\n",
    "threshhold = #value less than this value is considered black\n",
    "box = #(rows, cols)\n",
    "'''\n",
    "\n",
    "\n",
    "#calling the functions\n",
    "output = denoise(input)\n"
   ]
  },
  {
   "cell_type": "markdown",
   "metadata": {},
   "source": [
    "##### Save the output"
   ]
  },
  {
   "cell_type": "code",
   "execution_count": 9,
   "metadata": {},
   "outputs": [
    {
     "data": {
      "text/plain": [
       "True"
      ]
     },
     "execution_count": 9,
     "metadata": {},
     "output_type": "execute_result"
    }
   ],
   "source": [
    "### Save the output image ###\n",
    "cv2.imwrite('denoised.jpg', output)"
   ]
  },
  {
   "cell_type": "markdown",
   "metadata": {},
   "source": [
    "### Comparisons"
   ]
  },
  {
   "cell_type": "code",
   "execution_count": 10,
   "metadata": {},
   "outputs": [
    {
     "data": {
      "text/plain": [
       "True"
      ]
     },
     "execution_count": 10,
     "metadata": {},
     "output_type": "execute_result"
    }
   ],
   "source": [
    "#input = \n",
    "\n",
    "#adaptive NLM\n",
    "ANLM_output = adaptive_NLM(input)\n",
    "cv2.imwrite('ANLM.jpg', ANLM_output)\n",
    "\n",
    "#custom\n",
    "custom_output = enhance(input)\n",
    "cv2.imwrite('custom.jpg', custom_output)"
   ]
  }
 ],
 "metadata": {
  "kernelspec": {
   "display_name": "Python 3",
   "language": "python",
   "name": "python3"
  },
  "language_info": {
   "codemirror_mode": {
    "name": "ipython",
    "version": 3
   },
   "file_extension": ".py",
   "mimetype": "text/x-python",
   "name": "python",
   "nbconvert_exporter": "python",
   "pygments_lexer": "ipython3",
   "version": "3.9.2"
  },
  "orig_nbformat": 4
 },
 "nbformat": 4,
 "nbformat_minor": 2
}
