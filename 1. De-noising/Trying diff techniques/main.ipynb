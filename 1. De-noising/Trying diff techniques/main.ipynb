{
 "cells": [
  {
   "cell_type": "markdown",
   "metadata": {},
   "source": [
    "### Helpers"
   ]
  },
  {
   "cell_type": "code",
   "execution_count": 1,
   "metadata": {},
   "outputs": [],
   "source": [
    "#import libraries\n",
    "import cv2\n",
    "import numpy as np"
   ]
  },
  {
   "cell_type": "code",
   "execution_count": 2,
   "metadata": {},
   "outputs": [],
   "source": [
    "#input image\n",
    "image = cv2.imread('.\\\\input images\\\\WGT1021-508.jpg', cv2.IMREAD_GRAYSCALE)\n",
    "#image = cv2.imread('test.jpg', cv2.IMREAD_GRAYSCALE)\n",
    "#dim = 512, 1024"
   ]
  },
  {
   "cell_type": "markdown",
   "metadata": {},
   "source": [
    "## De-noising methods"
   ]
  },
  {
   "cell_type": "markdown",
   "metadata": {},
   "source": [
    "#### Gaussian blur"
   ]
  },
  {
   "cell_type": "code",
   "execution_count": 12,
   "metadata": {},
   "outputs": [],
   "source": [
    "kernel_size = (7, 7) #kernel size\n",
    "denoised_image = cv2.GaussianBlur(image, kernel_size, 0) #apply Gaus. blur\n"
   ]
  },
  {
   "cell_type": "code",
   "execution_count": 13,
   "metadata": {},
   "outputs": [
    {
     "data": {
      "text/plain": [
       "True"
      ]
     },
     "execution_count": 13,
     "metadata": {},
     "output_type": "execute_result"
    }
   ],
   "source": [
    "#save the output\n",
    "#cv2.imwrite('.\\\\output images\\\\gaussian_blurr.png', denoised_image) #save img\n",
    "cv2.imwrite('output.png', denoised_image) #save img"
   ]
  },
  {
   "cell_type": "markdown",
   "metadata": {},
   "source": [
    "#### Binary thresh-holding"
   ]
  },
  {
   "cell_type": "code",
   "execution_count": 25,
   "metadata": {},
   "outputs": [
    {
     "data": {
      "text/plain": [
       "True"
      ]
     },
     "execution_count": 25,
     "metadata": {},
     "output_type": "execute_result"
    }
   ],
   "source": [
    "#threshhold value\n",
    "threshold = 128\n",
    "    #pixels with value less than this will be turned to black\n",
    "    #others to white\n",
    "\n",
    "#apply threshholding\n",
    "_, output = cv2.threshold(image, threshold, 255, cv2.THRESH_BINARY)\n",
    "\n",
    "#save the output image\n",
    "cv2.imwrite('.\\\\output images\\\\threshhold_128.png', output) "
   ]
  },
  {
   "cell_type": "markdown",
   "metadata": {},
   "source": [
    "#### Filtering"
   ]
  },
  {
   "cell_type": "code",
   "execution_count": 15,
   "metadata": {},
   "outputs": [],
   "source": [
    "#kernel size\n",
    "kernel_size = 3\n",
    "\n",
    "# median filter\n",
    "denoised_image = cv2.medianBlur(image, kernel_size)\n"
   ]
  },
  {
   "cell_type": "code",
   "execution_count": 16,
   "metadata": {},
   "outputs": [
    {
     "data": {
      "text/plain": [
       "True"
      ]
     },
     "execution_count": 16,
     "metadata": {},
     "output_type": "execute_result"
    }
   ],
   "source": [
    "# save the output\n",
    "cv2.imwrite('.\\\\output images\\\\median_filter.png', denoised_image)"
   ]
  },
  {
   "cell_type": "markdown",
   "metadata": {},
   "source": [
    "#### Non-local Means de-noising"
   ]
  },
  {
   "cell_type": "code",
   "execution_count": 29,
   "metadata": {},
   "outputs": [
    {
     "data": {
      "text/plain": [
       "True"
      ]
     },
     "execution_count": 29,
     "metadata": {},
     "output_type": "execute_result"
    }
   ],
   "source": [
    "# filter strength \n",
    "h = 10 #higher value = stronger de-noising\n",
    "\n",
    "# Apply Non-Local Means denoising\n",
    "denoised_image = cv2.fastNlMeansDenoising(image, None, h=h)\n",
    "\n",
    "# Save the output\n",
    "cv2.imwrite('.\\\\output images\\\\NLM_10.jpg', denoised_image)\n"
   ]
  },
  {
   "cell_type": "markdown",
   "metadata": {},
   "source": [
    "#### Adaptive NLM"
   ]
  },
  {
   "cell_type": "code",
   "execution_count": 28,
   "metadata": {},
   "outputs": [],
   "source": [
    "######## adaptive NLM de-noising ########\n",
    "\n",
    "h = 10\n",
    "search_window = 100\n",
    "patch_size = 7\n",
    "\n",
    "# Apply adaptive Non-Local Means denoising\n",
    "denoised_image = cv2.fastNlMeansDenoising(image, None, h=h, templateWindowSize=patch_size, searchWindowSize=search_window)\n"
   ]
  },
  {
   "cell_type": "code",
   "execution_count": 19,
   "metadata": {},
   "outputs": [
    {
     "data": {
      "text/plain": [
       "True"
      ]
     },
     "execution_count": 19,
     "metadata": {},
     "output_type": "execute_result"
    }
   ],
   "source": [
    "# Save the output\n",
    "cv2.imwrite('.\\\\output images\\\\adaptive_NLM.jpg', denoised_image)"
   ]
  },
  {
   "cell_type": "markdown",
   "metadata": {},
   "source": [
    "## Contrast enhancement"
   ]
  },
  {
   "cell_type": "markdown",
   "metadata": {},
   "source": [
    "#### Histogram equalisation"
   ]
  },
  {
   "cell_type": "code",
   "execution_count": 38,
   "metadata": {},
   "outputs": [],
   "source": [
    "##### contrast enhancement ########\n",
    "# histogram equilisation technique\n",
    "equalized_image = cv2.equalizeHist(denoised_image)\n",
    "\n",
    "# Save the equalized image\n",
    "#cv2.imwrite('.\\\\equalized_image.png', equalized_image)\n"
   ]
  },
  {
   "cell_type": "code",
   "execution_count": 39,
   "metadata": {},
   "outputs": [
    {
     "data": {
      "text/plain": [
       "True"
      ]
     },
     "execution_count": 39,
     "metadata": {},
     "output_type": "execute_result"
    }
   ],
   "source": [
    "# Save the output\n",
    "cv2.imwrite('.\\\\output images\\\\adaptive_equalized.jpg', equalized_image)\n"
   ]
  },
  {
   "cell_type": "markdown",
   "metadata": {},
   "source": [
    "#### CLAHE - (Contrast Limited Adaptive Histogram Equalization)"
   ]
  },
  {
   "cell_type": "code",
   "execution_count": 26,
   "metadata": {},
   "outputs": [],
   "source": [
    "# Create a CLAHE (Contrast Limited Adaptive Histogram Equalization) object\n",
    "clip = 2.5   #strength of contrast\n",
    "grid = (5,7) #size of local region\n",
    "clahe = cv2.createCLAHE(clipLimit=clip, tileGridSize=grid)\n",
    "\n",
    "# Apply CLAHE to enhance local contrast\n",
    "enhanced_image = clahe.apply(denoised_image)\n"
   ]
  },
  {
   "cell_type": "code",
   "execution_count": 27,
   "metadata": {},
   "outputs": [
    {
     "data": {
      "text/plain": [
       "True"
      ]
     },
     "execution_count": 27,
     "metadata": {},
     "output_type": "execute_result"
    }
   ],
   "source": [
    "### save the output ###\n",
    "# Save the enhanced image\n",
    "cv2.imwrite('.\\\\output images\\\\adaptiveNLM_CLAHE.jpg', enhanced_image)\n"
   ]
  },
  {
   "cell_type": "markdown",
   "metadata": {},
   "source": [
    "#### Unsharp masking"
   ]
  },
  {
   "cell_type": "code",
   "execution_count": 37,
   "metadata": {},
   "outputs": [
    {
     "data": {
      "text/plain": [
       "True"
      ]
     },
     "execution_count": 37,
     "metadata": {},
     "output_type": "execute_result"
    }
   ],
   "source": [
    "# Apply Unsharp Masking to enhance local contrast (adjust parameters as needed)\n",
    "kernel_size = (5, 5) #for gaussian blurr\n",
    "\n",
    "alpha = 2.0 # Controls the amount of enhancement\n",
    "beta = 10   # Controls the brightness\n",
    "\n",
    "# Apply Gaussian blur to create the blurred version of the image\n",
    "blurred = cv2.GaussianBlur(denoised_image, kernel_size, 0)\n",
    "\n",
    "# Calculate the Unsharp Mask\n",
    "unsharp_mask = cv2.addWeighted(denoised_image, alpha, blurred, -alpha, beta)\n",
    "\n",
    "# Save the enhanced image\n",
    "cv2.imwrite('.\\\\enhanced_image_UnsharpMask.png', unsharp_mask)\n"
   ]
  },
  {
   "cell_type": "markdown",
   "metadata": {},
   "source": [
    "## Custom de-noising"
   ]
  },
  {
   "cell_type": "code",
   "execution_count": null,
   "metadata": {},
   "outputs": [],
   "source": [
    "def denoise(img, threshold, box):\n",
    "    # shape of input image\n",
    "    rows, cols = img.shape\n",
    "\n",
    "    #the result array  #same shape as input\n",
    "    result = img.copy()\n",
    "\n",
    "    # get width and height of the patch (box)\n",
    "    box_width, box_height = box[1], box[0]\n",
    "\n",
    "    # denoise the image one patch at a time\n",
    "    for y in range(0, rows, box_height):\n",
    "        for x in range(0, cols, box_width):\n",
    "            # Extract the patch\n",
    "            patch = img[y:y+box_height, x:x+box_width]\n",
    "\n",
    "            # Calculate the average patch value\n",
    "            avg = np.mean(patch[:,:])\n",
    "\n",
    "            # if the patch average is considered black\n",
    "            if avg <= threshold:\n",
    "                # make the black pixels blacker\n",
    "                patch[patch <= threshold] = patch[patch <= threshold]*(0.8)\n",
    "                # make the non-black pixels brighter\n",
    "                patch[patch > threshold] = avg*(1.1)\n",
    "            \n",
    "            # Update the patch in the result image\n",
    "            result[y:y+box_height, x:x+box_width] = patch\n",
    "\n",
    "    return result"
   ]
  }
 ],
 "metadata": {
  "kernelspec": {
   "display_name": "Python 3",
   "language": "python",
   "name": "python3"
  },
  "language_info": {
   "codemirror_mode": {
    "name": "ipython",
    "version": 3
   },
   "file_extension": ".py",
   "mimetype": "text/x-python",
   "name": "python",
   "nbconvert_exporter": "python",
   "pygments_lexer": "ipython3",
   "version": "3.9.2"
  },
  "orig_nbformat": 4
 },
 "nbformat": 4,
 "nbformat_minor": 2
}
